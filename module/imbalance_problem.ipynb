{
 "cells": [
  {
   "cell_type": "code",
   "execution_count": 46,
   "metadata": {},
   "outputs": [
    {
     "name": "stdout",
     "output_type": "stream",
     "text": [
      "Train data: (30162, 42)\n",
      "Test data: (6931, 40)\n"
     ]
    }
   ],
   "source": [
    "import utils as u\n",
    "\n",
    "train, test = u.get_data()\n",
    "train = u.preprocess_data(train, True)\n",
    "test = u.preprocess_data(test, False)\n",
    "\n",
    "print(\"Train data: {}\".format(train.shape))\n",
    "print(\"Test data: {}\".format(test.shape))\n",
    "\n",
    "# check that train and test data have the same attributes after OHE.\n",
    "assert(len([a for a, b in zip(train.columns[:-2], test.columns) if a != b]) == 0)"
   ]
  },
  {
   "cell_type": "code",
   "execution_count": 56,
   "metadata": {},
   "outputs": [
    {
     "name": "stdout",
     "output_type": "stream",
     "text": [
      "# target_ <=50K = 22654\n",
      "# target_ >50K = 7508\n"
     ]
    }
   ],
   "source": [
    "import numpy as np\n",
    "\n",
    "print(\"# {} = {}\".format(train.columns[-2], np.count_nonzero(np.array(train[train.columns[-2]]))))\n",
    "print(\"# {} = {}\".format(train.columns[-1], np.count_nonzero(np.array(train[train.columns[-1]]))))\n"
   ]
  },
  {
   "cell_type": "markdown",
   "metadata": {},
   "source": [
    "The ratio between the two target classes is 3:1. \n",
    "\n",
    "Oversampling is known to outperform undersampling, even if it can introduce overfitting let's follow this approach."
   ]
  },
  {
   "cell_type": "code",
   "execution_count": 61,
   "metadata": {},
   "outputs": [
    {
     "name": "stdout",
     "output_type": "stream",
     "text": [
      "(30162, 42)\n",
      "(37670, 42)\n",
      "(45178, 42)\n"
     ]
    }
   ],
   "source": [
    "target_high = train[train['target_ >50K']==1]\n",
    "print(train.shape)\n",
    "train_oversampling = train\n",
    "\n",
    "# to address the imbalance problem\n",
    "for i in range(2):\n",
    "    train_oversampling = train_oversampling.append(target_high)\n",
    "    print(train_oversampling.shape)"
   ]
  },
  {
   "cell_type": "code",
   "execution_count": 67,
   "metadata": {},
   "outputs": [
    {
     "name": "stdout",
     "output_type": "stream",
     "text": [
      "(45178, 40)\n",
      "(45178,)\n",
      "(36142, 40)\n",
      "(9036, 40)\n",
      "(36142,)\n",
      "(9036,)\n"
     ]
    }
   ],
   "source": [
    "from sklearn.model_selection import train_test_split\n",
    "\n",
    "train_oversampling_np = train_oversampling.to_numpy()\n",
    "x_train_ov = train_oversampling_np[:, :-2]\n",
    "y_train_ov = train_oversampling_np[:, -2]\n",
    "print(x_train_ov.shape)\n",
    "print(y_train_ov.shape)\n",
    "\n",
    "X_train, X_valid, y_train, y_valid = train_test_split(x_train_ov, y_train_ov, test_size=0.2, random_state=42)\n",
    "print(X_train.shape)\n",
    "print(X_valid.shape)\n",
    "print(y_train.shape)\n",
    "print(y_valid.shape)"
   ]
  },
  {
   "cell_type": "code",
   "execution_count": 68,
   "metadata": {},
   "outputs": [
    {
     "name": "stdout",
     "output_type": "stream",
     "text": [
      "# class0 in train = 18010\n",
      "# class1 in train = 18132\n",
      "# class0 in validation = 4514\n",
      "# class1 in validation = 4522\n"
     ]
    }
   ],
   "source": [
    "# verify that the imbalance problem is gone.\n",
    "print(\"# class0 in train = {}\".format(len(y_train) - np.count_nonzero(y_train)))\n",
    "print(\"# class1 in train = {}\".format(np.count_nonzero(y_train)))\n",
    "print(\"# class0 in validation = {}\".format(len(y_valid) - np.count_nonzero(y_valid)))\n",
    "print(\"# class1 in validation = {}\".format(np.count_nonzero(y_valid)))"
   ]
  }
 ],
 "metadata": {
  "kernelspec": {
   "display_name": "Python 3",
   "language": "python",
   "name": "python3"
  },
  "language_info": {
   "codemirror_mode": {
    "name": "ipython",
    "version": 3
   },
   "file_extension": ".py",
   "mimetype": "text/x-python",
   "name": "python",
   "nbconvert_exporter": "python",
   "pygments_lexer": "ipython3",
   "version": "3.6.9"
  }
 },
 "nbformat": 4,
 "nbformat_minor": 2
}
