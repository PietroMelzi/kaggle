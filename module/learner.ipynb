{
 "cells": [
  {
   "cell_type": "code",
   "execution_count": 2,
   "metadata": {},
   "outputs": [
    {
     "name": "stdout",
     "output_type": "stream",
     "text": [
      "torch.Size([30269, 40])\n",
      "torch.Size([14909, 40])\n",
      "torch.Size([30269])\n",
      "torch.Size([14909])\n",
      "(7500, 40)\n"
     ]
    }
   ],
   "source": [
    "import utils as u\n",
    "import torch\n",
    "\n",
    "train, test = u.get_data()\n",
    "train = u.preprocess_data(train, True)\n",
    "test = u.preprocess_data(test, False)\n",
    "\n",
    "X_train, X_valid, y_train, y_valid = u.train_validation_split(train, 0.33)\n",
    "x_train, y_train, x_valid, y_valid = map(torch.tensor, (X_train, y_train, X_valid, y_valid))\n",
    "print(x_train.shape)\n",
    "print(x_valid.shape)\n",
    "print(y_train.shape)\n",
    "print(y_valid.shape)\n",
    "print(test.shape)"
   ]
  },
  {
   "cell_type": "code",
   "execution_count": 10,
   "metadata": {},
   "outputs": [],
   "source": [
    "from torch.utils.data import TensorDataset, DataLoader\n",
    "from ANN import ANN\n",
    "\n",
    "bs = 400\n",
    "lr = 0.2\n",
    "\n",
    "x_train = x_train.float()\n",
    "y_train = y_train.long()\n",
    "train_ds = TensorDataset(x_train, y_train)\n",
    "train_dl = DataLoader(train_ds, batch_size=bs, shuffle=True)\n",
    "\n",
    "x_valid = x_valid.float()\n",
    "y_valid = y_valid.long()\n",
    "\n",
    "def get_model():\n",
    "    model = ANN()\n",
    "    return model, torch.optim.SGD(model.parameters(), lr=lr)\n",
    "\n",
    "def accuracy(out, y):\n",
    "    out = torch.argmax(out, dim=1)\n",
    "    return (out == y).float().mean()"
   ]
  },
  {
   "cell_type": "code",
   "execution_count": 12,
   "metadata": {},
   "outputs": [
    {
     "name": "stdout",
     "output_type": "stream",
     "text": [
      "0 tensor(0.4753) tensor(0.7630)\n",
      "1 tensor(0.4536) tensor(0.7795)\n",
      "2 tensor(0.4408) tensor(0.7913)\n",
      "3 tensor(0.4360) tensor(0.7960)\n",
      "4 tensor(0.4370) tensor(0.7960)\n"
     ]
    }
   ],
   "source": [
    "import torch.nn.functional as F\n",
    "\n",
    "epochs = 5\n",
    "model, opt = get_model()\n",
    "loss_func = F.cross_entropy\n",
    "\n",
    "for epoch in range(epochs):\n",
    "    model.train()\n",
    "    for xb, yb in train_dl:\n",
    "        pred = model(xb)\n",
    "        loss = loss_func(pred, yb)\n",
    "        \n",
    "        loss.backward()\n",
    "        opt.step()\n",
    "        opt.zero_grad()\n",
    "        \n",
    "    model.eval()\n",
    "    with torch.no_grad():\n",
    "        valid_loss = loss_func(model(x_valid), y_valid)\n",
    "    \n",
    "    print(epoch, valid_loss, accuracy(model(x_valid), y_valid))\n",
    "    "
   ]
  }
 ],
 "metadata": {
  "kernelspec": {
   "display_name": "Python 3",
   "language": "python",
   "name": "python3"
  },
  "language_info": {
   "codemirror_mode": {
    "name": "ipython",
    "version": 3
   },
   "file_extension": ".py",
   "mimetype": "text/x-python",
   "name": "python",
   "nbconvert_exporter": "python",
   "pygments_lexer": "ipython3",
   "version": "3.6.9"
  }
 },
 "nbformat": 4,
 "nbformat_minor": 2
}
