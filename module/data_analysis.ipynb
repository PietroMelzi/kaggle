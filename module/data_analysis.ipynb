{
 "cells": [
  {
   "cell_type": "code",
   "execution_count": 1,
   "metadata": {},
   "outputs": [
    {
     "name": "stdout",
     "output_type": "stream",
     "text": [
      "Percentage of data with capital gain/loss equal to 0: 87.00592733638402%\n"
     ]
    }
   ],
   "source": [
    "import numpy as np\n",
    "import pandas as pd\n",
    "\n",
    "FILEPATH_TRAIN = './data/training.txt'\n",
    "FILEPATH_TEST = './data/test.txt'\n",
    "HEADER = ['age', 'workclass', 'fnlwgt', 'education', 'education_num', 'marital_status', 'occupation', 'relationship',\n",
    "          'race', 'sex', 'capital_gain', 'capital_loss', 'hours_per_week', 'native_country', 'target']\n",
    "\n",
    "train = pd.read_csv(FILEPATH_TRAIN, sep='\\t', names=HEADER)\n",
    "train_temp = train.loc[(train['capital_gain'] == 0) & (train['capital_loss'] == 0)]\n",
    "print(\"Percentage of data with capital gain/loss equal to 0: {}%\".format(100 * len(train_temp) / len(train)))"
   ]
  },
  {
   "cell_type": "markdown",
   "metadata": {},
   "source": [
    "I remove from the dataset the following columns:\n",
    "1. fnlwgt: the information refers to the number of data with the same features.\n",
    "2. education: the information is contained in the column 'education_num'.\n",
    "3. relationship: the information is contained in the column 'marital_status'.\n",
    "4. capital_gain/loss: for most of the data, these columns are set to 0.."
   ]
  },
  {
   "cell_type": "code",
   "execution_count": 2,
   "metadata": {},
   "outputs": [
    {
     "data": {
      "text/html": [
       "<div>\n",
       "<style scoped>\n",
       "    .dataframe tbody tr th:only-of-type {\n",
       "        vertical-align: middle;\n",
       "    }\n",
       "\n",
       "    .dataframe tbody tr th {\n",
       "        vertical-align: top;\n",
       "    }\n",
       "\n",
       "    .dataframe thead th {\n",
       "        text-align: right;\n",
       "    }\n",
       "</style>\n",
       "<table border=\"1\" class=\"dataframe\">\n",
       "  <thead>\n",
       "    <tr style=\"text-align: right;\">\n",
       "      <th></th>\n",
       "      <th>age</th>\n",
       "      <th>workclass</th>\n",
       "      <th>education_num</th>\n",
       "      <th>marital_status</th>\n",
       "      <th>occupation</th>\n",
       "      <th>race</th>\n",
       "      <th>sex</th>\n",
       "      <th>hours_per_week</th>\n",
       "      <th>native_country</th>\n",
       "      <th>target</th>\n",
       "    </tr>\n",
       "  </thead>\n",
       "  <tbody>\n",
       "    <tr>\n",
       "      <th>0</th>\n",
       "      <td>39</td>\n",
       "      <td>State-gov</td>\n",
       "      <td>13</td>\n",
       "      <td>Never-married</td>\n",
       "      <td>Adm-clerical</td>\n",
       "      <td>White</td>\n",
       "      <td>Male</td>\n",
       "      <td>40</td>\n",
       "      <td>United-States</td>\n",
       "      <td>&lt;=50K</td>\n",
       "    </tr>\n",
       "    <tr>\n",
       "      <th>1</th>\n",
       "      <td>50</td>\n",
       "      <td>Self-emp-not-inc</td>\n",
       "      <td>13</td>\n",
       "      <td>Married-civ-spouse</td>\n",
       "      <td>Exec-managerial</td>\n",
       "      <td>White</td>\n",
       "      <td>Male</td>\n",
       "      <td>13</td>\n",
       "      <td>United-States</td>\n",
       "      <td>&lt;=50K</td>\n",
       "    </tr>\n",
       "    <tr>\n",
       "      <th>2</th>\n",
       "      <td>38</td>\n",
       "      <td>Private</td>\n",
       "      <td>9</td>\n",
       "      <td>Divorced</td>\n",
       "      <td>Handlers-cleaners</td>\n",
       "      <td>White</td>\n",
       "      <td>Male</td>\n",
       "      <td>40</td>\n",
       "      <td>United-States</td>\n",
       "      <td>&lt;=50K</td>\n",
       "    </tr>\n",
       "    <tr>\n",
       "      <th>3</th>\n",
       "      <td>53</td>\n",
       "      <td>Private</td>\n",
       "      <td>7</td>\n",
       "      <td>Married-civ-spouse</td>\n",
       "      <td>Handlers-cleaners</td>\n",
       "      <td>Black</td>\n",
       "      <td>Male</td>\n",
       "      <td>40</td>\n",
       "      <td>United-States</td>\n",
       "      <td>&lt;=50K</td>\n",
       "    </tr>\n",
       "    <tr>\n",
       "      <th>4</th>\n",
       "      <td>28</td>\n",
       "      <td>Private</td>\n",
       "      <td>13</td>\n",
       "      <td>Married-civ-spouse</td>\n",
       "      <td>Prof-specialty</td>\n",
       "      <td>Black</td>\n",
       "      <td>Female</td>\n",
       "      <td>40</td>\n",
       "      <td>Cuba</td>\n",
       "      <td>&lt;=50K</td>\n",
       "    </tr>\n",
       "  </tbody>\n",
       "</table>\n",
       "</div>"
      ],
      "text/plain": [
       "   age          workclass  education_num       marital_status  \\\n",
       "0   39          State-gov             13        Never-married   \n",
       "1   50   Self-emp-not-inc             13   Married-civ-spouse   \n",
       "2   38            Private              9             Divorced   \n",
       "3   53            Private              7   Married-civ-spouse   \n",
       "4   28            Private             13   Married-civ-spouse   \n",
       "\n",
       "           occupation    race      sex  hours_per_week  native_country  target  \n",
       "0        Adm-clerical   White     Male              40   United-States   <=50K  \n",
       "1     Exec-managerial   White     Male              13   United-States   <=50K  \n",
       "2   Handlers-cleaners   White     Male              40   United-States   <=50K  \n",
       "3   Handlers-cleaners   Black     Male              40   United-States   <=50K  \n",
       "4      Prof-specialty   Black   Female              40            Cuba   <=50K  "
      ]
     },
     "execution_count": 2,
     "metadata": {},
     "output_type": "execute_result"
    }
   ],
   "source": [
    "train2 = train.drop(['fnlwgt', 'education', 'relationship', 'capital_gain', 'capital_loss'], axis=1)\n",
    "train2.head()"
   ]
  },
  {
   "cell_type": "code",
   "execution_count": 3,
   "metadata": {},
   "outputs": [
    {
     "name": "stdout",
     "output_type": "stream",
     "text": [
      "age: mean = 38.58164675532078, std = 13.640223092304275, min = 17, max = 90.\n",
      "education_num: mean = 10.0806793403151, std = 2.5726808256012865, min = 1, max = 16.\n",
      "hours_per_week: mean = 40.437455852092995, std = 12.34723907570799, min = 1, max = 99.\n"
     ]
    }
   ],
   "source": [
    "# some information on numerical attributes.\n",
    "train_num = train2.select_dtypes(include=np.number)\n",
    "for c in train_num.columns:\n",
    "    train_num_col = train_num[c].to_numpy()\n",
    "    print(\"{}: mean = {}, std = {}, min = {}, max = {}.\".format(c, train_num_col.mean(), train_num_col.std(),\n",
    "                                                                train_num_col.min(), train_num_col.max()))"
   ]
  },
  {
   "cell_type": "code",
   "execution_count": 4,
   "metadata": {},
   "outputs": [
    {
     "name": "stdout",
     "output_type": "stream",
     "text": [
      "Possible outliers for age: 0.371610208531679%.\n",
      "Possible outliers for education_num: 0.672583765854857%.\n",
      "Possible outliers for hours_per_week: 1.3513098492061055%.\n"
     ]
    }
   ],
   "source": [
    "from scipy import stats\n",
    "\n",
    "Z_THRESHOLD = 3\n",
    "\n",
    "z = np.abs(stats.zscore(train_num))\n",
    "\n",
    "counter = np.count_nonzero(z > Z_THRESHOLD, axis=0)\n",
    "for cat, c in zip(train_num.columns, counter):\n",
    "    print(\"Possible outliers for {}: {}%.\".format(cat, 100 * c / len(train_num)))"
   ]
  },
  {
   "cell_type": "code",
   "execution_count": 8,
   "metadata": {},
   "outputs": [
    {
     "data": {
      "image/png": "[encoded data removed]",
      "text/plain": [
       "<Figure size 432x288 with 1 Axes>"
      ]
     },
     "metadata": {
      "needs_background": "light"
     },
     "output_type": "display_data"
    },
    {
     "data": {
      "image/png": "[encoded data removed]",
      "text/plain": [
       "<Figure size 432x288 with 1 Axes>"
      ]
     },
     "metadata": {
      "needs_background": "light"
     },
     "output_type": "display_data"
    },
    {
     "data": {
      "image/png": "[encoded data removed]",
      "text/plain": [
       "<Figure size 432x288 with 1 Axes>"
      ]
     },
     "metadata": {
      "needs_background": "light"
     },
     "output_type": "display_data"
    }
   ],
   "source": [
    "for col in train_num.columns:\n",
    "    train_num.hist(column=col)"
   ]
  },
  {
   "cell_type": "code",
   "execution_count": 16,
   "metadata": {},
   "outputs": [
    {
     "data": {
      "text/html": [
       "<div>\n",
       "<style scoped>\n",
       "    .dataframe tbody tr th:only-of-type {\n",
       "        vertical-align: middle;\n",
       "    }\n",
       "\n",
       "    .dataframe tbody tr th {\n",
       "        vertical-align: top;\n",
       "    }\n",
       "\n",
       "    .dataframe thead th {\n",
       "        text-align: right;\n",
       "    }\n",
       "</style>\n",
       "<table border=\"1\" class=\"dataframe\">\n",
       "  <thead>\n",
       "    <tr style=\"text-align: right;\">\n",
       "      <th></th>\n",
       "      <th>age</th>\n",
       "      <th>workclass</th>\n",
       "      <th>education_num</th>\n",
       "      <th>marital_status</th>\n",
       "      <th>occupation</th>\n",
       "      <th>race</th>\n",
       "      <th>sex</th>\n",
       "      <th>hours_per_week</th>\n",
       "      <th>native_country</th>\n",
       "      <th>target</th>\n",
       "    </tr>\n",
       "  </thead>\n",
       "  <tbody>\n",
       "    <tr>\n",
       "      <th>0</th>\n",
       "      <td>0.301370</td>\n",
       "      <td>State-gov</td>\n",
       "      <td>0.800000</td>\n",
       "      <td>Never-married</td>\n",
       "      <td>Adm-clerical</td>\n",
       "      <td>White</td>\n",
       "      <td>Male</td>\n",
       "      <td>0.397959</td>\n",
       "      <td>United-States</td>\n",
       "      <td>&lt;=50K</td>\n",
       "    </tr>\n",
       "    <tr>\n",
       "      <th>1</th>\n",
       "      <td>0.452055</td>\n",
       "      <td>Self-emp-not-inc</td>\n",
       "      <td>0.800000</td>\n",
       "      <td>Married-civ-spouse</td>\n",
       "      <td>Exec-managerial</td>\n",
       "      <td>White</td>\n",
       "      <td>Male</td>\n",
       "      <td>0.122449</td>\n",
       "      <td>United-States</td>\n",
       "      <td>&lt;=50K</td>\n",
       "    </tr>\n",
       "    <tr>\n",
       "      <th>2</th>\n",
       "      <td>0.287671</td>\n",
       "      <td>Private</td>\n",
       "      <td>0.533333</td>\n",
       "      <td>Divorced</td>\n",
       "      <td>Handlers-cleaners</td>\n",
       "      <td>White</td>\n",
       "      <td>Male</td>\n",
       "      <td>0.397959</td>\n",
       "      <td>United-States</td>\n",
       "      <td>&lt;=50K</td>\n",
       "    </tr>\n",
       "    <tr>\n",
       "      <th>3</th>\n",
       "      <td>0.493151</td>\n",
       "      <td>Private</td>\n",
       "      <td>0.400000</td>\n",
       "      <td>Married-civ-spouse</td>\n",
       "      <td>Handlers-cleaners</td>\n",
       "      <td>Black</td>\n",
       "      <td>Male</td>\n",
       "      <td>0.397959</td>\n",
       "      <td>United-States</td>\n",
       "      <td>&lt;=50K</td>\n",
       "    </tr>\n",
       "    <tr>\n",
       "      <th>4</th>\n",
       "      <td>0.150685</td>\n",
       "      <td>Private</td>\n",
       "      <td>0.800000</td>\n",
       "      <td>Married-civ-spouse</td>\n",
       "      <td>Prof-specialty</td>\n",
       "      <td>Black</td>\n",
       "      <td>Female</td>\n",
       "      <td>0.397959</td>\n",
       "      <td>Cuba</td>\n",
       "      <td>&lt;=50K</td>\n",
       "    </tr>\n",
       "  </tbody>\n",
       "</table>\n",
       "</div>"
      ],
      "text/plain": [
       "        age          workclass  education_num       marital_status  \\\n",
       "0  0.301370          State-gov       0.800000        Never-married   \n",
       "1  0.452055   Self-emp-not-inc       0.800000   Married-civ-spouse   \n",
       "2  0.287671            Private       0.533333             Divorced   \n",
       "3  0.493151            Private       0.400000   Married-civ-spouse   \n",
       "4  0.150685            Private       0.800000   Married-civ-spouse   \n",
       "\n",
       "           occupation    race      sex  hours_per_week  native_country  target  \n",
       "0        Adm-clerical   White     Male        0.397959   United-States   <=50K  \n",
       "1     Exec-managerial   White     Male        0.122449   United-States   <=50K  \n",
       "2   Handlers-cleaners   White     Male        0.397959   United-States   <=50K  \n",
       "3   Handlers-cleaners   Black     Male        0.397959   United-States   <=50K  \n",
       "4      Prof-specialty   Black   Female        0.397959            Cuba   <=50K  "
      ]
     },
     "execution_count": 16,
     "metadata": {},
     "output_type": "execute_result"
    }
   ],
   "source": [
    "# all the numerical variables have reasonable values, let's normalize.\n",
    "from sklearn import preprocessing\n",
    "\n",
    "min_max_scaler = preprocessing.MinMaxScaler()\n",
    "np_scaled = min_max_scaler.fit_transform(train_num)\n",
    "train_num_normalized = pd.DataFrame(np_scaled, columns = train_num.columns)\n",
    "\n",
    "# replace normalized columns in the dataframe\n",
    "for col in train_num_normalized.columns:\n",
    "    train2[col] = train_num_normalized[col]\n",
    "    \n",
    "train2.head()"
   ]
  },
  {
   "cell_type": "code",
   "execution_count": 27,
   "metadata": {},
   "outputs": [
    {
     "name": "stdout",
     "output_type": "stream",
     "text": [
      "workclass - {' Self-emp-inc', ' ?', ' Federal-gov', ' State-gov', ' Self-emp-not-inc', ' Without-pay', ' Local-gov', ' Never-worked', ' Private'}.\n",
      "marital_status - {' Divorced', ' Married-civ-spouse', ' Widowed', ' Never-married', ' Married-AF-spouse', ' Separated', ' Married-spouse-absent'}.\n",
      "occupation - {' Tech-support', ' Other-service', ' Craft-repair', ' Transport-moving', ' Farming-fishing', ' ?', ' Protective-serv', ' Adm-clerical', ' Armed-Forces', ' Priv-house-serv', ' Machine-op-inspct', ' Prof-specialty', ' Handlers-cleaners', ' Sales', ' Exec-managerial'}.\n",
      "race - {' Black', ' Amer-Indian-Eskimo', ' Other', ' White', ' Asian-Pac-Islander'}.\n",
      "sex - {' Male', ' Female'}.\n",
      "native_country - {' Haiti', ' Hong', ' Poland', ' Guatemala', ' Ecuador', ' Jamaica', ' Taiwan', ' Honduras', ' United-States', ' India', ' Ireland', ' Peru', ' England', ' Laos', ' Cambodia', ' Dominican-Republic', ' Thailand', ' China', ' Canada', ' Cuba', ' ?', ' Nicaragua', ' Hungary', ' Italy', ' Mexico', ' Vietnam', ' Germany', ' Philippines', ' El-Salvador', ' Outlying-US(Guam-USVI-etc)', ' Portugal', ' Trinadad&Tobago', ' France', ' Holand-Netherlands', ' Japan', ' Yugoslavia', ' Greece', ' Puerto-Rico', ' South', ' Scotland', ' Iran', ' Columbia'}.\n",
      "target - {' <=50K', ' >50K'}.\n"
     ]
    }
   ],
   "source": [
    "# some information on categorical attributes.\n",
    "columns_cat = []\n",
    "for c in train2.columns:\n",
    "    if c not in train_num.columns:\n",
    "        columns_cat.append(c)\n",
    "        \n",
    "columns_null = []\n",
    "for c in columns_cat:\n",
    "    train_cat_col = train[c].values\n",
    "    print(\"{} - {}.\".format(c, set(train_cat_col)))\n",
    "    if ' ?' in set(train_cat_col):\n",
    "        columns_null.append(c)"
   ]
  },
  {
   "cell_type": "code",
   "execution_count": 28,
   "metadata": {},
   "outputs": [
    {
     "name": "stdout",
     "output_type": "stream",
     "text": [
      "workclass: null values = 5.64%.\n",
      "occupation: null values = 5.66%.\n",
      "native_country: null values = 1.79%.\n"
     ]
    }
   ],
   "source": [
    "for c in columns_null:\n",
    "    col = train2[c].values\n",
    "    print(\"{}: null values = {:.2f}%.\".format(c, 100 * len([v for v in col if v == \" ?\"])/len(train2)))"
   ]
  },
  {
   "cell_type": "code",
   "execution_count": 68,
   "metadata": {},
   "outputs": [
    {
     "name": "stdout",
     "output_type": "stream",
     "text": [
      "Shape before removing null values: (32561, 10).\n",
      "Shape after removing null values: (30162, 10).\n",
      "workclass: null values = 0.00%.\n",
      "occupation: null values = 0.00%.\n",
      "native_country: null values = 0.00%.\n"
     ]
    }
   ],
   "source": [
    "print(\"Shape before removing null values: {}.\".format(train2.shape))\n",
    "train3 = train2[(train2['workclass'] != \" ?\") & (train2['occupation'] != \" ?\") & \n",
    "                     (train2['native_country'] != \" ?\")]\n",
    "print(\"Shape after removing null values: {}.\".format(train3.shape))\n",
    "\n",
    "for c in columns_null:\n",
    "    col = train3[c].values\n",
    "    print(\"{}: null values = {:.2f}%.\".format(c, 100 * len([v for v in col if v == \" ?\"])/len(train3)))"
   ]
  },
  {
   "cell_type": "code",
   "execution_count": 69,
   "metadata": {},
   "outputs": [
    {
     "name": "stdout",
     "output_type": "stream",
     "text": [
      " Private             22286\n",
      " Self-emp-not-inc     2499\n",
      " Local-gov            2067\n",
      " State-gov            1279\n",
      " Self-emp-inc         1074\n",
      " Federal-gov           943\n",
      " Without-pay            14\n",
      "Name: workclass, dtype: int64\n",
      " Married-civ-spouse       14065\n",
      " Never-married             9726\n",
      " Divorced                  4214\n",
      " Separated                  939\n",
      " Widowed                    827\n",
      " Married-spouse-absent      370\n",
      " Married-AF-spouse           21\n",
      "Name: marital_status, dtype: int64\n",
      " Prof-specialty       4038\n",
      " Craft-repair         4030\n",
      " Exec-managerial      3992\n",
      " Adm-clerical         3721\n",
      " Sales                3584\n",
      " Other-service        3212\n",
      " Machine-op-inspct    1966\n",
      " Transport-moving     1572\n",
      " Handlers-cleaners    1350\n",
      " Farming-fishing       989\n",
      " Tech-support          912\n",
      " Protective-serv       644\n",
      " Priv-house-serv       143\n",
      " Armed-Forces            9\n",
      "Name: occupation, dtype: int64\n",
      " White                 25933\n",
      " Black                  2817\n",
      " Asian-Pac-Islander      895\n",
      " Amer-Indian-Eskimo      286\n",
      " Other                   231\n",
      "Name: race, dtype: int64\n",
      " Male      20380\n",
      " Female     9782\n",
      "Name: sex, dtype: int64\n",
      " United-States                 27504\n",
      " Mexico                          610\n",
      " Philippines                     188\n",
      " Germany                         128\n",
      " Puerto-Rico                     109\n",
      " Canada                          107\n",
      " El-Salvador                     100\n",
      " India                           100\n",
      " Cuba                             92\n",
      " England                          86\n",
      " Jamaica                          80\n",
      " South                            71\n",
      " China                            68\n",
      " Italy                            68\n",
      " Dominican-Republic               67\n",
      " Vietnam                          64\n",
      " Guatemala                        63\n",
      " Japan                            59\n",
      " Poland                           56\n",
      " Columbia                         56\n",
      " Taiwan                           42\n",
      " Iran                             42\n",
      " Haiti                            42\n",
      " Portugal                         34\n",
      " Nicaragua                        33\n",
      " Peru                             30\n",
      " Greece                           29\n",
      " France                           27\n",
      " Ecuador                          27\n",
      " Ireland                          24\n",
      " Hong                             19\n",
      " Trinadad&Tobago                  18\n",
      " Cambodia                         18\n",
      " Laos                             17\n",
      " Thailand                         17\n",
      " Yugoslavia                       16\n",
      " Outlying-US(Guam-USVI-etc)       14\n",
      " Hungary                          13\n",
      " Honduras                         12\n",
      " Scotland                         11\n",
      " Holand-Netherlands                1\n",
      "Name: native_country, dtype: int64\n",
      " <=50K    22654\n",
      " >50K      7508\n",
      "Name: target, dtype: int64\n"
     ]
    }
   ],
   "source": [
    "for c in columns_cat:\n",
    "    vc = train3[c].value_counts()\n",
    "    print (vc)"
   ]
  },
  {
   "cell_type": "markdown",
   "metadata": {},
   "source": [
    "As a first approach, I assign two possible values to 'native_country': United-States and Other."
   ]
  },
  {
   "cell_type": "code",
   "execution_count": 82,
   "metadata": {},
   "outputs": [
    {
     "data": {
      "text/html": [
       "<div>\n",
       "<style scoped>\n",
       "    .dataframe tbody tr th:only-of-type {\n",
       "        vertical-align: middle;\n",
       "    }\n",
       "\n",
       "    .dataframe tbody tr th {\n",
       "        vertical-align: top;\n",
       "    }\n",
       "\n",
       "    .dataframe thead th {\n",
       "        text-align: right;\n",
       "    }\n",
       "</style>\n",
       "<table border=\"1\" class=\"dataframe\">\n",
       "  <thead>\n",
       "    <tr style=\"text-align: right;\">\n",
       "      <th></th>\n",
       "      <th>age</th>\n",
       "      <th>workclass</th>\n",
       "      <th>education_num</th>\n",
       "      <th>marital_status</th>\n",
       "      <th>occupation</th>\n",
       "      <th>race</th>\n",
       "      <th>sex</th>\n",
       "      <th>hours_per_week</th>\n",
       "      <th>native_country</th>\n",
       "      <th>target</th>\n",
       "    </tr>\n",
       "  </thead>\n",
       "  <tbody>\n",
       "    <tr>\n",
       "      <th>0</th>\n",
       "      <td>0.301370</td>\n",
       "      <td>State-gov</td>\n",
       "      <td>0.800000</td>\n",
       "      <td>Never-married</td>\n",
       "      <td>Adm-clerical</td>\n",
       "      <td>White</td>\n",
       "      <td>Male</td>\n",
       "      <td>0.397959</td>\n",
       "      <td>United-States</td>\n",
       "      <td>&lt;=50K</td>\n",
       "    </tr>\n",
       "    <tr>\n",
       "      <th>1</th>\n",
       "      <td>0.452055</td>\n",
       "      <td>Self-emp-not-inc</td>\n",
       "      <td>0.800000</td>\n",
       "      <td>Married-civ-spouse</td>\n",
       "      <td>Exec-managerial</td>\n",
       "      <td>White</td>\n",
       "      <td>Male</td>\n",
       "      <td>0.122449</td>\n",
       "      <td>United-States</td>\n",
       "      <td>&lt;=50K</td>\n",
       "    </tr>\n",
       "    <tr>\n",
       "      <th>2</th>\n",
       "      <td>0.287671</td>\n",
       "      <td>Private</td>\n",
       "      <td>0.533333</td>\n",
       "      <td>Divorced</td>\n",
       "      <td>Handlers-cleaners</td>\n",
       "      <td>White</td>\n",
       "      <td>Male</td>\n",
       "      <td>0.397959</td>\n",
       "      <td>United-States</td>\n",
       "      <td>&lt;=50K</td>\n",
       "    </tr>\n",
       "    <tr>\n",
       "      <th>3</th>\n",
       "      <td>0.493151</td>\n",
       "      <td>Private</td>\n",
       "      <td>0.400000</td>\n",
       "      <td>Married-civ-spouse</td>\n",
       "      <td>Handlers-cleaners</td>\n",
       "      <td>Black</td>\n",
       "      <td>Male</td>\n",
       "      <td>0.397959</td>\n",
       "      <td>United-States</td>\n",
       "      <td>&lt;=50K</td>\n",
       "    </tr>\n",
       "    <tr>\n",
       "      <th>4</th>\n",
       "      <td>0.150685</td>\n",
       "      <td>Private</td>\n",
       "      <td>0.800000</td>\n",
       "      <td>Married-civ-spouse</td>\n",
       "      <td>Prof-specialty</td>\n",
       "      <td>Black</td>\n",
       "      <td>Female</td>\n",
       "      <td>0.397959</td>\n",
       "      <td>Other</td>\n",
       "      <td>&lt;=50K</td>\n",
       "    </tr>\n",
       "  </tbody>\n",
       "</table>\n",
       "</div>"
      ],
      "text/plain": [
       "        age          workclass  education_num       marital_status  \\\n",
       "0  0.301370          State-gov       0.800000        Never-married   \n",
       "1  0.452055   Self-emp-not-inc       0.800000   Married-civ-spouse   \n",
       "2  0.287671            Private       0.533333             Divorced   \n",
       "3  0.493151            Private       0.400000   Married-civ-spouse   \n",
       "4  0.150685            Private       0.800000   Married-civ-spouse   \n",
       "\n",
       "           occupation    race      sex  hours_per_week native_country  target  \n",
       "0        Adm-clerical   White     Male        0.397959  United-States   <=50K  \n",
       "1     Exec-managerial   White     Male        0.122449  United-States   <=50K  \n",
       "2   Handlers-cleaners   White     Male        0.397959  United-States   <=50K  \n",
       "3   Handlers-cleaners   Black     Male        0.397959  United-States   <=50K  \n",
       "4      Prof-specialty   Black   Female        0.397959          Other   <=50K  "
      ]
     },
     "execution_count": 82,
     "metadata": {},
     "output_type": "execute_result"
    }
   ],
   "source": [
    "def native_country_corrector(x):\n",
    "    x = x.strip()\n",
    "    return x if x == 'United-States' else 'Other'\n",
    "\n",
    "column_native = train3['native_country']\n",
    "column_native = list(map(native_country_corrector, column_native))\n",
    "train3.head()"
   ]
  }
 ],
 "metadata": {
  "kernelspec": {
   "display_name": "Python 3",
   "language": "python",
   "name": "python3"
  },
  "language_info": {
   "codemirror_mode": {
    "name": "ipython",
    "version": 3
   },
   "file_extension": ".py",
   "mimetype": "text/x-python",
   "name": "python",
   "nbconvert_exporter": "python",
   "pygments_lexer": "ipython3",
   "version": "3.6.9"
  }
 },
 "nbformat": 4,
 "nbformat_minor": 2
}
